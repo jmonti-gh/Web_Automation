{
 "cells": [
  {
   "cell_type": "markdown",
   "metadata": {},
   "source": [
    "# WEB Automation - Wikipedia Search"
   ]
  },
  {
   "cell_type": "markdown",
   "metadata": {},
   "source": [
    "## 1. Open Site"
   ]
  },
  {
   "cell_type": "code",
   "execution_count": 1,
   "metadata": {},
   "outputs": [],
   "source": [
    "from selenium import webdriver\n",
    "from selenium.webdriver.common.by import By\n",
    "from selenium.webdriver.common.keys import Keys\n",
    "import time\n",
    "\n",
    "#drv = webdriver.Firefox()\n",
    "drv = webdriver.Chrome()\n",
    "drv.get(\"https://en.wikipedia.org\")\n",
    "# drv.maximize_window()\n",
    "# drv.set_window_size(600, 800)"
   ]
  },
  {
   "cell_type": "markdown",
   "metadata": {},
   "source": [
    "## 2. Locate Search box\n",
    "- <input class=\"cdx-text-input__input\" accesskey=\"f\" autocapitalize=\"sentences\" title=\"Search Wikipedia [alt-shift-f]\" placeholder=\"Search Wikipedia\" aria-label=\"Search Wikipedia\" name=\"search\" role=\"combobox\" autocomplete=\"off\" aria-autocomplete=\"list\" aria-controls=\"cdx-typeahead-search-menu-0\" aria-expanded=\"false\" type=\"search\" size=\"1\">\n",
    "- `<input class=\"cdx-text-input__input\" accesskey=\"f\" autocapitalize=\"sentences\" title=\"Search Wikipedia [alt-shift-f]\" placeholder=\"Search Wikipedia\" aria-label=\"Search Wikipedia\" name=\"search\" role=\"combobox\" autocomplete=\"off\" aria-autocomplete=\"list\" aria-controls=\"cdx-typeahead-search-menu-0\" aria-expanded=\"false\" type=\"search\" size=\"1\">`"
   ]
  },
  {
   "cell_type": "code",
   "execution_count": 2,
   "metadata": {},
   "outputs": [
    {
     "name": "stdout",
     "output_type": "stream",
     "text": [
      "input {'height': 32, 'width': 389, 'x': 329.8000183105469, 'y': 17}\n",
      "\n",
      "class=\"cdx-text-input__input\" \n",
      "accesskey=\"f\" \n",
      "autocapitalize=\"sentences\" \n",
      "title=\"Search Wikipedia [alt-shift-f]\" \n",
      "placeholder=\"Search Wikipedia\" \n",
      "aria-label=\"Search Wikipedia\" \n",
      "name=\"search\" \n",
      "role=\"None\" \n",
      "autocomplete=\"off\" \n",
      "aria-autocomplete=\"None\" \n",
      "aria-controls=\"None\" \n",
      "aria-expanded=\"None\" \n",
      "type=\"search\" \n",
      "size=\"20\" \n",
      "id=\"searchInput\" \n"
     ]
    }
   ],
   "source": [
    "search = drv.find_element(By.CLASS_NAME, \"cdx-text-input__input\")\n",
    "# search = drv.find_element(By.XPATH,\n",
    "#                           value='//input[@class=\"cdx-text-input__input\"]')\n",
    "#search = drv.find_element(By.NAME, \"search\")\n",
    "#search = drv.find_element(By.XPATH, value='//input[@name=\"search\"]')\n",
    "# search.is_displayed()\n",
    "print(search.tag_name, search.rect)#, search.text)\n",
    "print(search.text)\n",
    "for at in ['class', 'accesskey', 'autocapitalize', 'title', 'placeholder',\n",
    "           'aria-label', 'name', 'role', 'autocomplete', 'aria-autocomplete',\n",
    "           'aria-controls', 'aria-expanded', 'type', 'size', 'id']:\n",
    "    print(f'{at}=\"{search.get_attribute(at)}\" ')\n",
    "# # search.click() # is not clickable at point (744,69) because another element <div> obscures it\n",
    "# search.send_keys('Keys.RETURN')\n",
    "# search.click()"
   ]
  },
  {
   "cell_type": "code",
   "execution_count": 3,
   "metadata": {},
   "outputs": [
    {
     "name": "stdout",
     "output_type": "stream",
     "text": [
      "<input class=\"cdx-text-input__input\" type=\"search\" name=\"search\" placeholder=\"Search Wikipedia\" aria-label=\"Search Wikipedia\" autocapitalize=\"sentences\" title=\"Search Wikipedia [alt-shift-f]\" accesskey=\"f\" id=\"searchInput\" autocomplete=\"off\">\n"
     ]
    }
   ],
   "source": [
    "print(search.get_attribute(\"outerHTML\"))"
   ]
  },
  {
   "cell_type": "markdown",
   "metadata": {},
   "source": [
    "## 3. Make a Search + selenium in biology hatnote.\n",
    "- <div role=\"note\" class=\"hatnote navigation-not-searchable\">Main article: <a href=\"/wiki/Selenium_in_biology\" title=\"Selenium in biology\">Selenium in biology</a></div>    \n",
    "`<div role=\"note\" class=\"hatnote navigation-not-searchable\">Main article: <a href=\"/wiki/Selenium_in_biology\" title=\"Selenium in biology\">Selenium in biology</a></div>`"
   ]
  },
  {
   "cell_type": "code",
   "execution_count": 4,
   "metadata": {},
   "outputs": [],
   "source": [
    "search.send_keys('Selenium', Keys.RETURN)\n",
    "time.sleep(2)\n",
    "s_in_bio = drv.find_element(By.XPATH, value='//a[@href=\"/wiki/Selenium_in_biology\"]')\n",
    "s_in_bio.click()"
   ]
  }
 ],
 "metadata": {
  "kernelspec": {
   "display_name": "Python 3",
   "language": "python",
   "name": "python3"
  },
  "language_info": {
   "codemirror_mode": {
    "name": "ipython",
    "version": 3
   },
   "file_extension": ".py",
   "mimetype": "text/x-python",
   "name": "python",
   "nbconvert_exporter": "python",
   "pygments_lexer": "ipython3",
   "version": "3.11.0"
  },
  "orig_nbformat": 4
 },
 "nbformat": 4,
 "nbformat_minor": 2
}
