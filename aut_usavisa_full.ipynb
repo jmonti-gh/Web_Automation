{
 "cells": [
  {
   "cell_type": "markdown",
   "metadata": {},
   "source": [
    "# WEB Automation - Form filling"
   ]
  },
  {
   "cell_type": "markdown",
   "metadata": {},
   "source": [
    "## 1. Open the Web Form"
   ]
  },
  {
   "cell_type": "code",
   "execution_count": null,
   "metadata": {},
   "outputs": [],
   "source": [
    "from selenium import webdriver\n",
    "\n",
    "browser = webdriver.Chrome()\n",
    "browser.get(\"https://ais.usvisa-info.com/es-ar/niv\")\n",
    "# browser.maximize_window()"
   ]
  },
  {
   "cell_type": "markdown",
   "metadata": {},
   "source": [
    "## 2. <div class=\"homeContinueBg\">\n",
    "<a title=\"Seleccione esta opción para continuar o revisar una solicitud de visa ya existente, o en caso de que ya disponga de una cuenta en este sitio.\" href=\"/es-ar/niv/users/sign_in\">Continuar</a>\n",
    "</div>\n",
    "\n",
    "- Copy element:    \n",
    "`<div class=\"homeContinueBg\">`    \n",
    "`<a title=\"Seleccione esta opción para continuar o revisar una solicitud de visa ya existente, o en caso de que ya disponga de una cuenta en este sitio.\" href=\"/es-ar/niv/users/sign_in\">Continuar</a>`    \n",
    "`</div>`\n",
    "\n",
    "- Copy XPath (absolute)    \n",
    "//*[@id=\"main\"]/div[2]/div[3]/div[2]/div[1]/div\n",
    "\n",
    "- Relative XPath ?\n"
   ]
  },
  {
   "cell_type": "code",
   "execution_count": null,
   "metadata": {},
   "outputs": [],
   "source": [
    "from selenium.webdriver.common.by import By\n",
    "\n",
    "# By.CLASS_NAME it's ok.\n",
    "Continuar = browser.find_element(By.CLASS_NAME, \"homeContinueBg\")\n",
    "Continuar.click()"
   ]
  },
  {
   "cell_type": "markdown",
   "metadata": {},
   "source": [
    "## 3. Iniciar sesión - Correo electrónico\n",
    "- <input class=\"string email required\" type=\"email\" value=\"\" name=\"user[email]\" id=\"user_email\">    \n",
    "`<input class=\"string email required\" type=\"email\" value=\"\" name=\"user[email]\" id=\"user_email\">`"
   ]
  },
  {
   "cell_type": "code",
   "execution_count": null,
   "metadata": {},
   "outputs": [],
   "source": [
    "Correo = browser.find_element(By.ID, \"user_email\")\n",
    "Correo.send_keys('sofia.monti@fce.uncu.edu.ar')"
   ]
  },
  {
   "cell_type": "markdown",
   "metadata": {},
   "source": [
    "## 4. Iniciar sesión - Contraseña\n",
    "- <input class=\"password optional\" type=\"password\" name=\"user[password]\" id=\"user_password\">    \n",
    "`<input class=\"password optional\" type=\"password\" name=\"user[password]\" id=\"user_password\">`"
   ]
  },
  {
   "cell_type": "code",
   "execution_count": null,
   "metadata": {},
   "outputs": [],
   "source": [
    "Contraseña = browser.find_element(By.ID, \"user_password\")\n",
    "Contraseña.send_keys('Resar123feo')"
   ]
  },
  {
   "cell_type": "markdown",
   "metadata": {},
   "source": [
    "## 5. Iniciar sesión - Términos\n",
    "- <div class=\"icheckbox icheck-item icheck[vxbu1] icheck-area-20\" style=\"position: relative;\"><input type=\"checkbox\" name=\"policy_confirmed\" id=\"policy_confirmed\" value=\"1\" class=\"icheck-input icheck[vxbu1]\"></div>    \n",
    "`<div class=\"icheckbox icheck-item icheck[vxbu1] icheck-area-20\" style=\"position: relative;\"><input type=\"checkbox\" name=\"policy_confirmed\" id=\"policy_confirmed\" value=\"1\" class=\"icheck-input icheck[vxbu1]\"></div>`"
   ]
  },
  {
   "cell_type": "markdown",
   "metadata": {},
   "source": [
    "`<div class=\"icheckbox icheck-item icheck[lft1c] icheck-area-20\" style=\"position: relative;\"><input type=\"checkbox\" name=\"policy_confirmed\" id=\"policy_confirmed\" value=\"1\" class=\"icheck-input icheck[lft1c]\"></div>`"
   ]
  },
  {
   "cell_type": "code",
   "execution_count": null,
   "metadata": {},
   "outputs": [],
   "source": [
    "Términos = browser.find_element(By.ID, \"policy_confirmed\")\n",
    "Términos.click()"
   ]
  },
  {
   "cell_type": "code",
   "execution_count": null,
   "metadata": {},
   "outputs": [],
   "source": []
  },
  {
   "cell_type": "code",
   "execution_count": null,
   "metadata": {},
   "outputs": [],
   "source": []
  },
  {
   "cell_type": "markdown",
   "metadata": {},
   "source": [
    "#### Ways to locate the elements inside the page html code.\n",
    "> Selenium locators: ID, Name, ClassName, LinkText, Partial LinkText, TagName, CssSelector, XPath.\n",
    "- We must know the element's properties: Inspect the field (the element) w/browser\n",
    "    - ex. `<input type=\"text\" name=\"firstname\" value=\"\" placeholder=\"First Name\" id=\"input-firstname\" class=\"form-control\">`\n",
    "    - and de XPath: __//*[@id=\"input-firstname\"]__\n",
    "    - and full XPath: __/html/body/div[1]/div[5]/div[1]/div/div/form/fieldset[1]/div[2]/div/input__"
   ]
  },
  {
   "cell_type": "markdown",
   "metadata": {},
   "source": [
    "### To interact with form fields and buttons, we need to:\n",
    "1. Locate the element in the page using the find element method in Selenium.\n",
    "2. Do an action with the located element."
   ]
  },
  {
   "cell_type": "code",
   "execution_count": null,
   "metadata": {},
   "outputs": [],
   "source": [
    "from selenium.webdriver.common.by import By\n",
    "\n",
    "\n",
    "\n",
    "# find all the elements (fields) i want to fill\n",
    "first_name = browser.find_element(By.ID, \"input-firstname\")\n",
    "last_name = browser.find_element(By.ID, \"input-lastname\")\n",
    "telephone = browser.find_element(By.ID, \"input-telephone\")\n",
    "email = browser.find_element(By.ID, \"input-email\")\n",
    "password = browser.find_element(By.ID, \"input-password\")\n",
    "password_confirm = browser.find_element(By.ID, \"input-confirm\")\n",
    "\n",
    "### Not all elements have ID, then use other locator (ex. XPath locator)\n",
    "# Absolute and relative XPath, we'll use relative\n",
    "yes_subscribe = browser.find_element(By.XPATH, value=\"//label[@for='input-newsletter-yes']\")\n",
    "terms = browser.find_element(By.XPATH, value=\"//label[@for='input-agree']\")\n",
    "continue_button = browser.find_element(By.XPATH, value=\"//input[@value='Continue']\")"
   ]
  },
  {
   "cell_type": "markdown",
   "metadata": {},
   "source": [
    "## 3. Fill the field (element)\n",
    "- Use the method 'send_keys'."
   ]
  },
  {
   "cell_type": "code",
   "execution_count": null,
   "metadata": {},
   "outputs": [],
   "source": [
    "first_name.send_keys('J')\n",
    "last_name.send_keys('M')\n",
    "telephone.send_keys('+542614...')\n",
    "email.send_keys('jori@gmail.com')\n",
    "password.send_keys('123456')\n",
    "password_confirm.send_keys('123456')\n",
    "\n",
    "# Click Option, Terms and Continue\n",
    "yes_subscribe.click()\n",
    "terms.click()\n",
    "continue_button.click()"
   ]
  },
  {
   "cell_type": "markdown",
   "metadata": {},
   "source": [
    "## 4. Check if the register was correctly done.\n",
    "- Check the title of the result page w/assert for ex."
   ]
  },
  {
   "cell_type": "code",
   "execution_count": null,
   "metadata": {},
   "outputs": [],
   "source": [
    "assert browser.title == 'Your Account Has Been Create!'\n",
    "# https://www.youtube.com/watch?v=KeSWHW4Lx1E"
   ]
  },
  {
   "cell_type": "code",
   "execution_count": null,
   "metadata": {},
   "outputs": [],
   "source": []
  },
  {
   "cell_type": "code",
   "execution_count": null,
   "metadata": {},
   "outputs": [],
   "source": []
  },
  {
   "cell_type": "code",
   "execution_count": null,
   "metadata": {},
   "outputs": [],
   "source": []
  }
 ],
 "metadata": {
  "kernelspec": {
   "display_name": "Python 3",
   "language": "python",
   "name": "python3"
  },
  "language_info": {
   "codemirror_mode": {
    "name": "ipython",
    "version": 3
   },
   "file_extension": ".py",
   "mimetype": "text/x-python",
   "name": "python",
   "nbconvert_exporter": "python",
   "pygments_lexer": "ipython3",
   "version": "3.11.4"
  },
  "orig_nbformat": 4
 },
 "nbformat": 4,
 "nbformat_minor": 2
}
