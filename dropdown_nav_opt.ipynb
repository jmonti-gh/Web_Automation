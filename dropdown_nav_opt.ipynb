{
 "cells": [
  {
   "cell_type": "markdown",
   "metadata": {},
   "source": [
    "# WEB Automation - Handle Dropdowns"
   ]
  },
  {
   "cell_type": "markdown",
   "metadata": {},
   "source": [
    "## Diff. Types of Dropdowns\n",
    "1. Dropdown Navigation Options.\n",
    "2. Dropdown Command Options.\n",
    "3. Attribute Selection Dropdown Options.\n",
    "4. Form Filling Dropdowns Options.\n",
    "> Here we only treat Dropdown Navigation Options."
   ]
  },
  {
   "cell_type": "markdown",
   "metadata": {},
   "source": [
    "## Open the page"
   ]
  },
  {
   "cell_type": "code",
   "execution_count": 1,
   "metadata": {},
   "outputs": [],
   "source": [
    "from selenium import webdriver\n",
    "from selenium.webdriver.common.by import By\n",
    "from selenium.webdriver.common.action_chains import ActionChains\n",
    "import random as rd\n",
    "import secrets\n",
    "import time\n",
    "\n",
    "#drv = webdriver.Firefox()\n",
    "drv = webdriver.Chrome()\n",
    "drv.get(\"https://www.lambdatest.com/\")\n",
    "# browser.maximize_window()"
   ]
  },
  {
   "cell_type": "markdown",
   "metadata": {},
   "source": [
    "## 1. Dropdown Navigarion Options\n",
    "- Pricing is direct has no major drawbacks.\n",
    "- But if I want to select an option within Resources or Enterprise e.g. there are two ways:\n",
    "    1. Click on the Resources option and then click on Learning hub., o\n",
    "    2. Click directly on Learning Hub, ignoring Resources."
   ]
  },
  {
   "cell_type": "markdown",
   "metadata": {},
   "source": [
    "## 1.1. <a href=\"https://www.lambdatest.com/pricing\" class=\"desktop:block  desktop:ml-0 desktop:mt-10 nav-link inline-block pt-10 pb-10 text-size-16 font-medium px-15 fromipad:px-10 text-ltBlack-400 \">Pricing</a>    \n",
    "`<a href=\"https://www.lambdatest.com/pricing\" class=\"desktop:block  desktop:ml-0 desktop:mt-10 nav-link inline-block pt-10 pb-10 text-size-16 font-medium px-15 fromipad:px-10 text-ltBlack-400 \">Pricing</a>`"
   ]
  },
  {
   "cell_type": "code",
   "execution_count": 2,
   "metadata": {},
   "outputs": [
    {
     "name": "stdout",
     "output_type": "stream",
     "text": [
      "XPATH = //a[@href=\"https://www.lambdatest.com/pricing\"]\n",
      "<a href=\"https://www.lambdatest.com/pricing\" class=\"desktop:block  desktop:ml-0 desktop:mt-10 nav-link inline-block pt-10 pb-10 text-size-16 font-medium px-15 fromipad:px-10 text-ltBlack-400 \">Pricing</a>\n",
      "{'_parent': <selenium.webdriver.chrome.webdriver.WebDriver (session=\"fba74723d7e949137f17657ff1ceb7bb\")>, '_id': '5A0B8C53E727939AB8D282946B3F66E8_element_15'}\n",
      "['__abstractmethods__', '__class__', '__delattr__', '__dict__', '__dir__', '__doc__', '__eq__', '__format__', '__ge__', '__getattribute__', '__getstate__', '__gt__', '__hash__', '__init__', '__init_subclass__', '__le__', '__lt__', '__module__', '__ne__', '__new__', '__reduce__', '__reduce_ex__', '__repr__', '__setattr__', '__sizeof__', '__str__', '__subclasshook__', '__weakref__', '_abc_impl', '_execute', '_id', '_parent', '_upload', 'accessible_name', 'aria_role', 'clear', 'click', 'find_element', 'find_elements', 'get_attribute', 'get_dom_attribute', 'get_property', 'id', 'is_displayed', 'is_enabled', 'is_selected', 'location', 'location_once_scrolled_into_view', 'parent', 'rect', 'screenshot', 'screenshot_as_base64', 'screenshot_as_png', 'send_keys', 'shadow_root', 'size', 'submit', 'tag_name', 'text', 'value_of_css_property']\n"
     ]
    }
   ],
   "source": [
    "# Valid relative XPaths for Pricing top menubar element\n",
    "xpaths = ['//a[@href=\"https://www.lambdatest.com/pricing\"]',\n",
    "          '//a[text()=\"Pricing\"]',\n",
    "          '//a[contains(@class, \"p:block  desktop:ml-0 desktop:mt-10 nav-lin\")]',\n",
    "          '//a[contains(@href, \"ps://www.lambdatest.com/pri\")]']\n",
    "\n",
    "xpath = secrets.choice(xpaths)\n",
    "print(f'''XPATH = {xpath}''')\n",
    "\n",
    "pricing = drv.find_element(By.XPATH, value=xpath)\n",
    "print(pricing.get_attribute('outerHTML'))\n",
    "print(pricing.__dict__)\n",
    "print(dir(pricing))\n",
    "pricing.click()\n",
    "\n",
    "# pricing.is_displayed(), .is_enabled(), .is_selected()\n",
    "# pricing.rect, .location, .text, .tag_name, aria_role\n",
    "## https://www.lambdatest.com/blog/complete-guide-for-using-xpath-in-selenium-with-examples/"
   ]
  },
  {
   "cell_type": "markdown",
   "metadata": {},
   "source": [
    "## 1.2.1. Resources + Learning Hub\n",
    "- Click on the Resources option and then click on Learning hub.\n",
    "- Resources:  <button class=\"desktop:block text-ltBlack-400 desktop:ml-0 desktop:mt-10 nav-link pt-10 pb-10 text-size-16 font-medium px-15 fromipad:px-10 block sm:inline-block dropdown-toggle menu-item focus:outline-none\">Resources <i class=\"header arrow_down\"></i></button>       \n",
    "`<button class=\"desktop:block text-ltBlack-400 desktop:ml-0 desktop:mt-10 nav-link pt-10 pb-10 text-size-16 font-medium px-15 fromipad:px-10 block sm:inline-block dropdown-toggle menu-item focus:outline-none\">Resources <i class=\"header arrow_down\"></i></button>`\n",
    "- Learning hub: <div class=\"ml-26\"><h3 class=\"text-size-18 font-medium text-ltBlack-50 tracking-normal\">Learning Hub</h3><p class=\"text-gray-850 text-size-15 leading-normal tracking-normal\">End-to-end guides on Selenium, cross browser testing, CI/CD, and more</p></div>         \n",
    "`<div class=\"ml-26\"><h3 class=\"text-size-18 font-medium text-ltBlack-50 tracking-normal\">Learning Hub</h3><p class=\"text-gray-850 text-size-15 leading-normal tracking-normal\">End-to-end guides on Selenium, cross browser testing, CI/CD, and more</p></div>`"
   ]
  },
  {
   "cell_type": "code",
   "execution_count": 3,
   "metadata": {},
   "outputs": [
    {
     "name": "stdout",
     "output_type": "stream",
     "text": [
      "---- Resources: ----\n",
      "XPATH = //button[contains(text(), \"Resour\")]\n",
      "<button class=\"desktop:block text-ltBlack-400 desktop:ml-0 desktop:mt-10 nav-link pt-10 pb-10 text-size-16 font-medium px-15 fromipad:px-10 block sm:inline-block dropdown-toggle menu-item focus:outline-none\">Resources <i class=\"header arrow_down\"></i></button>\n",
      "---- Learning Hub: ----\n",
      "<h3 class=\"text-size-18 font-medium text-ltBlack-50 tracking-normal\">Learning Hub</h3>\n"
     ]
    }
   ],
   "source": [
    "### Click to Resources\n",
    "print('---- Resources: ----')\n",
    "xpaths = ['//button[text()=\"Resources \"]',\n",
    "          '//button[contains(text(), \"Resour\")]']\n",
    "\n",
    "xpath = rd.choice(xpaths)\n",
    "print(f'''XPATH = {xpath}''')\n",
    "\n",
    "resources = drv.find_element(By.XPATH, value=xpath)\n",
    "print(resources.get_attribute('outerHTML'))\n",
    "resources.click()\n",
    "\n",
    "### To Click Learning Hub we have two alternatives, click to:\n",
    "# 1. Learning Hub or 2. \"End-to-end guides.....\"\n",
    "part_str = 'End-to-end guides on Selenium, cross browser te'\n",
    "dic = {'Learning Hub:': '//h3[text()=\"Learning Hub\"]',\n",
    "       'End-to-end guides...:': f'//p[contains(text(), \"{part_str}\")]'}\n",
    "key = rd.choice(list(dic.keys()))\n",
    "\n",
    "print(f'---- {key} ----')\n",
    "lh = drv.find_element(By.XPATH, value=dic[key])\n",
    "print(lh.get_attribute('outerHTML'))\n",
    "lh.click()"
   ]
  },
  {
   "cell_type": "markdown",
   "metadata": {},
   "source": [
    "## 1.2.2. Click directly on Learning Hub, ignoring Resources.\n",
    "- <div class=\"ml-26\"><h3 class=\"text-size-18 font-medium text-ltBlack-50 tracking-normal\">Learning Hub</h3><p class=\"text-gray-850 text-size-15 leading-normal tracking-normal\">End-to-end guides on Selenium, cross browser testing, CI/CD, and more</p></div>      \n",
    "`<div class=\"ml-26\"><h3 class=\"text-size-18 font-medium text-ltBlack-50 tracking-normal\">Learning Hub</h3><p class=\"text-gray-850 text-size-15 leading-normal tracking-normal\">End-to-end guides on Selenium, cross browser testing, CI/CD, and more</p></div>`"
   ]
  },
  {
   "cell_type": "code",
   "execution_count": 4,
   "metadata": {},
   "outputs": [
    {
     "name": "stdout",
     "output_type": "stream",
     "text": [
      "---- End-to-end guides...: ----\n",
      "<p class=\"text-gray-850 text-size-15 leading-normal tracking-normal\">End-to-end guides on Selenium, cross browser testing, CI/CD, and more</p>\n"
     ]
    }
   ],
   "source": [
    "### To Click Learning Hub we have two alternatives, click to:\n",
    "# 1. Learning Hub or 2. \"End-to-end guides.....\"\n",
    "part_str = 'End-to-end guides on Selenium, cross browser te'\n",
    "dic = {'Learning Hub:': '//h3[text()=\"Learning Hub\"]',\n",
    "       'End-to-end guides...:': f'//p[contains(text(), \"{part_str}\")]'}\n",
    "key = secrets.choice(list(dic.keys()))\n",
    "\n",
    "print(f'---- {key} ----')\n",
    "lh = drv.find_element(By.XPATH, value=dic[key])\n",
    "print(lh.get_attribute('outerHTML'))\n",
    "time.sleep(2)\n",
    "drv.execute_script(\"arguments[0].click();\", lh)"
   ]
  },
  {
   "cell_type": "code",
   "execution_count": null,
   "metadata": {},
   "outputs": [],
   "source": []
  }
 ],
 "metadata": {
  "kernelspec": {
   "display_name": "Python 3",
   "language": "python",
   "name": "python3"
  },
  "language_info": {
   "codemirror_mode": {
    "name": "ipython",
    "version": 3
   },
   "file_extension": ".py",
   "mimetype": "text/x-python",
   "name": "python",
   "nbconvert_exporter": "python",
   "pygments_lexer": "ipython3",
   "version": "3.11.0"
  },
  "orig_nbformat": 4
 },
 "nbformat": 4,
 "nbformat_minor": 2
}
