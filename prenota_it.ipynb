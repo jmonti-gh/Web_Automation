{
 "cells": [
  {
   "cell_type": "markdown",
   "metadata": {},
   "source": [
    "# WEB Auto - Prenota@mi_it\n",
    "- without Proxy"
   ]
  },
  {
   "cell_type": "markdown",
   "metadata": {},
   "source": [
    "## 1. Open the Web"
   ]
  },
  {
   "cell_type": "code",
   "execution_count": 11,
   "metadata": {},
   "outputs": [],
   "source": [
    "import time\n",
    "from selenium import webdriver\n",
    "from selenium.webdriver.common.by import By\n",
    "\n",
    "\n",
    "drv = webdriver.Chrome()\n",
    "drv.implicitly_wait(50)\n",
    "#drv.get(\"https://prenotami.esteri.it/Home?ReturnUrl=%2fServices\")\n",
    "drv.get(\"https://prenotami.esteri.it/\")\n",
    "drv.maximize_window()"
   ]
  },
  {
   "cell_type": "markdown",
   "metadata": {},
   "source": [
    "## 2. Accedi - Email\n",
    "- <input class=\"form-control\" data-val=\"true\" data-val-email=\"Indirizzo E-mail non valido\" data-val-length=\"Lunghezza Email errata\" data-val-length-max=\"255\" data-val-length-min=\"1\" data-val-required=\"Email richiesta\" id=\"login-email\" name=\"Email\" required=\"required\" type=\"email\" value=\"\">\n",
    "\n",
    "- Copy outer HTML:       \n",
    "`<input class=\"form-control\" data-val=\"true\" data-val-email=\"Indirizzo E-mail non valido\" data-val-length=\"Lunghezza Email errata\" data-val-length-max=\"255\" data-val-length-min=\"1\" data-val-required=\"Email richiesta\" id=\"login-email\" name=\"Email\" required=\"required\" type=\"email\" value=\"\">>`"
   ]
  },
  {
   "cell_type": "code",
   "execution_count": 12,
   "metadata": {},
   "outputs": [],
   "source": [
    "# By.ID it's ok.\n",
    "email = drv.find_element(By.ID, \"login-email\")\n",
    "email.send_keys('ramiroluis2k12@gmail.com')"
   ]
  },
  {
   "cell_type": "markdown",
   "metadata": {},
   "source": [
    "## 3. Iniciar sesión - Contraseña\n",
    "- <input class=\"form-control\" data-val=\"true\" data-val-length=\"Lunghezza Password errata\" data-val-length-max=\"30\" data-val-length-min=\"8\" data-val-regex=\"Password Errata\" data-val-regex-pattern=\"^(?=.{8,}$)(?=.*[a-z])(?=.*[A-Z])(?=.*[0-9]).*$\" data-val-required=\"Password richiesta\" id=\"login-password\" maxlength=\"20\" minlength=\"8\" name=\"Password\" required=\"required\" type=\"password\" value=\"\">    \n",
    "`<input class=\"form-control\" data-val=\"true\" data-val-length=\"Lunghezza Password errata\" data-val-length-max=\"30\" data-val-length-min=\"8\" data-val-regex=\"Password Errata\" data-val-regex-pattern=\"^(?=.{8,}$)(?=.*[a-z])(?=.*[A-Z])(?=.*[0-9]).*$\" data-val-required=\"Password richiesta\" id=\"login-password\" maxlength=\"20\" minlength=\"8\" name=\"Password\" required=\"required\" type=\"password\" value=\"\">`"
   ]
  },
  {
   "cell_type": "code",
   "execution_count": 13,
   "metadata": {},
   "outputs": [],
   "source": [
    "pwd = drv.find_element(By.ID, \"login-password\")\n",
    "pwd.send_keys('Secretariacell1983')"
   ]
  },
  {
   "cell_type": "markdown",
   "metadata": {},
   "source": [
    "## 4. AVANTI (button)\n",
    "- <button type=\"submit\" class=\"button primary g-recaptcha\" data-sitekey=\"6LdSmG4cAAAAAOarRxGIhehvv4sPgVeF-vRi-Jqb\" data-callback=\"onSubmit\">Avanti</button>   \n",
    "`<button type=\"submit\" class=\"button primary g-recaptcha\" data-sitekey=\"6LdSmG4cAAAAAOarRxGIhehvv4sPgVeF-vRi-Jqb\" data-callback=\"onSubmit\">Avanti</button>`"
   ]
  },
  {
   "cell_type": "code",
   "execution_count": 14,
   "metadata": {},
   "outputs": [],
   "source": [
    "#drv.find_element(By.CLASS_NAME, \"button primary g-recaptcha\").click()\n",
    "#drv.find_element(By.LINK_TEXT, \"Avanti\").click()\n",
    "drv.find_element(By.XPATH, value='//button[@data-sitekey=\"6LdSmG4cAAAAAOarRxGIhehvv4sPgVeF-vRi-Jqb\"]').click()"
   ]
  },
  {
   "cell_type": "markdown",
   "metadata": {},
   "source": [
    "## 5. Prenota (Menu option)\n",
    "- <span>Prenota</span>\n",
    "- <span>Prenota</span>"
   ]
  },
  {
   "cell_type": "code",
   "execution_count": 15,
   "metadata": {},
   "outputs": [],
   "source": [
    "drv.find_element(By.XPATH, value='//span[text()=\"Prenota\"]').click()"
   ]
  },
  {
   "cell_type": "markdown",
   "metadata": {},
   "source": [
    "## 6. Servizio trattazione pratiche cittadinanza per discendenza\n",
    "- <button class=\"button primary\" style=\"width:7.00rem;\">Prenota</button>\n",
    "- <a href=\"/Services/Booking/791\"><button class=\"button primary\" style=\"width:7.00rem;\">Prenota</button></a>"
   ]
  },
  {
   "cell_type": "code",
   "execution_count": 16,
   "metadata": {},
   "outputs": [],
   "source": [
    "drv.find_element(By.XPATH, value='//a[@href=\"/Services/Booking/791\"]').click()\n",
    "#print(drv.page_source)"
   ]
  },
  {
   "cell_type": "code",
   "execution_count": 17,
   "metadata": {},
   "outputs": [],
   "source": [
    "#print(drv.page_source)"
   ]
  },
  {
   "cell_type": "code",
   "execution_count": null,
   "metadata": {},
   "outputs": [],
   "source": []
  },
  {
   "cell_type": "markdown",
   "metadata": {},
   "source": [
    "## N. Disconnetti\n",
    "- <span>Disconnetti</span>"
   ]
  },
  {
   "cell_type": "code",
   "execution_count": 18,
   "metadata": {},
   "outputs": [
    {
     "ename": "ElementClickInterceptedException",
     "evalue": "Message: element click intercepted: Element <span>...</span> is not clickable at point (892, 245). Other element would receive the click: <div class=\"jconfirm-cell\">...</div>\n  (Session info: chrome=118.0.5993.89)\nStacktrace:\n\tGetHandleVerifier [0x00007FF7604A8EF2+54786]\n\t(No symbol) [0x00007FF760415612]\n\t(No symbol) [0x00007FF7602CA64B]\n\t(No symbol) [0x00007FF760311A6B]\n\t(No symbol) [0x00007FF76030FE39]\n\t(No symbol) [0x00007FF76030DC08]\n\t(No symbol) [0x00007FF76030CCC3]\n\t(No symbol) [0x00007FF7603029CF]\n\t(No symbol) [0x00007FF76032BE6A]\n\t(No symbol) [0x00007FF7603022E6]\n\t(No symbol) [0x00007FF76032C080]\n\t(No symbol) [0x00007FF760344D02]\n\t(No symbol) [0x00007FF76032BC43]\n\t(No symbol) [0x00007FF760300941]\n\t(No symbol) [0x00007FF760301B84]\n\tGetHandleVerifier [0x00007FF7607F7F52+3524194]\n\tGetHandleVerifier [0x00007FF76084D800+3874576]\n\tGetHandleVerifier [0x00007FF760845D7F+3843215]\n\tGetHandleVerifier [0x00007FF760545086+694166]\n\t(No symbol) [0x00007FF760420A88]\n\t(No symbol) [0x00007FF76041CA94]\n\t(No symbol) [0x00007FF76041CBC2]\n\t(No symbol) [0x00007FF76040CC83]\n\tBaseThreadInitThunk [0x00007FFC31D07344+20]\n\tRtlUserThreadStart [0x00007FFC330026B1+33]\n",
     "output_type": "error",
     "traceback": [
      "\u001b[1;31m---------------------------------------------------------------------------\u001b[0m",
      "\u001b[1;31mElementClickInterceptedException\u001b[0m          Traceback (most recent call last)",
      "\u001b[1;32mc:\\Users\\jmonti\\Documents\\mchi\\Dev\\git_github_gitlab\\PortableGit\\__localRepos\\Web_Automation\\prenota_it.ipynb Cell 17\u001b[0m line \u001b[0;36m2\n\u001b[0;32m      <a href='vscode-notebook-cell:/c%3A/Users/jmonti/Documents/mchi/Dev/git_github_gitlab/PortableGit/__localRepos/Web_Automation/prenota_it.ipynb#X22sZmlsZQ%3D%3D?line=0'>1</a>\u001b[0m time\u001b[39m.\u001b[39msleep(\u001b[39m3\u001b[39m)\n\u001b[1;32m----> <a href='vscode-notebook-cell:/c%3A/Users/jmonti/Documents/mchi/Dev/git_github_gitlab/PortableGit/__localRepos/Web_Automation/prenota_it.ipynb#X22sZmlsZQ%3D%3D?line=1'>2</a>\u001b[0m drv\u001b[39m.\u001b[39;49mfind_element(By\u001b[39m.\u001b[39;49mXPATH, value\u001b[39m=\u001b[39;49m\u001b[39m'\u001b[39;49m\u001b[39m//span[text()=\u001b[39;49m\u001b[39m\"\u001b[39;49m\u001b[39mPrenota\u001b[39;49m\u001b[39m\"\u001b[39;49m\u001b[39m]\u001b[39;49m\u001b[39m'\u001b[39;49m)\u001b[39m.\u001b[39;49mclick()\n",
      "File \u001b[1;32mc:\\Users\\jmonti\\AppData\\Local\\Programs\\Python\\Python311\\Lib\\site-packages\\selenium\\webdriver\\remote\\webelement.py:93\u001b[0m, in \u001b[0;36mWebElement.click\u001b[1;34m(self)\u001b[0m\n\u001b[0;32m     91\u001b[0m \u001b[39mdef\u001b[39;00m \u001b[39mclick\u001b[39m(\u001b[39mself\u001b[39m) \u001b[39m-\u001b[39m\u001b[39m>\u001b[39m \u001b[39mNone\u001b[39;00m:\n\u001b[0;32m     92\u001b[0m \u001b[39m    \u001b[39m\u001b[39m\"\"\"Clicks the element.\"\"\"\u001b[39;00m\n\u001b[1;32m---> 93\u001b[0m     \u001b[39mself\u001b[39;49m\u001b[39m.\u001b[39;49m_execute(Command\u001b[39m.\u001b[39;49mCLICK_ELEMENT)\n",
      "File \u001b[1;32mc:\\Users\\jmonti\\AppData\\Local\\Programs\\Python\\Python311\\Lib\\site-packages\\selenium\\webdriver\\remote\\webelement.py:394\u001b[0m, in \u001b[0;36mWebElement._execute\u001b[1;34m(self, command, params)\u001b[0m\n\u001b[0;32m    392\u001b[0m     params \u001b[39m=\u001b[39m {}\n\u001b[0;32m    393\u001b[0m params[\u001b[39m\"\u001b[39m\u001b[39mid\u001b[39m\u001b[39m\"\u001b[39m] \u001b[39m=\u001b[39m \u001b[39mself\u001b[39m\u001b[39m.\u001b[39m_id\n\u001b[1;32m--> 394\u001b[0m \u001b[39mreturn\u001b[39;00m \u001b[39mself\u001b[39;49m\u001b[39m.\u001b[39;49m_parent\u001b[39m.\u001b[39;49mexecute(command, params)\n",
      "File \u001b[1;32mc:\\Users\\jmonti\\AppData\\Local\\Programs\\Python\\Python311\\Lib\\site-packages\\selenium\\webdriver\\remote\\webdriver.py:344\u001b[0m, in \u001b[0;36mWebDriver.execute\u001b[1;34m(self, driver_command, params)\u001b[0m\n\u001b[0;32m    342\u001b[0m response \u001b[39m=\u001b[39m \u001b[39mself\u001b[39m\u001b[39m.\u001b[39mcommand_executor\u001b[39m.\u001b[39mexecute(driver_command, params)\n\u001b[0;32m    343\u001b[0m \u001b[39mif\u001b[39;00m response:\n\u001b[1;32m--> 344\u001b[0m     \u001b[39mself\u001b[39;49m\u001b[39m.\u001b[39;49merror_handler\u001b[39m.\u001b[39;49mcheck_response(response)\n\u001b[0;32m    345\u001b[0m     response[\u001b[39m\"\u001b[39m\u001b[39mvalue\u001b[39m\u001b[39m\"\u001b[39m] \u001b[39m=\u001b[39m \u001b[39mself\u001b[39m\u001b[39m.\u001b[39m_unwrap_value(response\u001b[39m.\u001b[39mget(\u001b[39m\"\u001b[39m\u001b[39mvalue\u001b[39m\u001b[39m\"\u001b[39m, \u001b[39mNone\u001b[39;00m))\n\u001b[0;32m    346\u001b[0m     \u001b[39mreturn\u001b[39;00m response\n",
      "File \u001b[1;32mc:\\Users\\jmonti\\AppData\\Local\\Programs\\Python\\Python311\\Lib\\site-packages\\selenium\\webdriver\\remote\\errorhandler.py:229\u001b[0m, in \u001b[0;36mErrorHandler.check_response\u001b[1;34m(self, response)\u001b[0m\n\u001b[0;32m    227\u001b[0m         alert_text \u001b[39m=\u001b[39m value[\u001b[39m\"\u001b[39m\u001b[39malert\u001b[39m\u001b[39m\"\u001b[39m]\u001b[39m.\u001b[39mget(\u001b[39m\"\u001b[39m\u001b[39mtext\u001b[39m\u001b[39m\"\u001b[39m)\n\u001b[0;32m    228\u001b[0m     \u001b[39mraise\u001b[39;00m exception_class(message, screen, stacktrace, alert_text)  \u001b[39m# type: ignore[call-arg]  # mypy is not smart enough here\u001b[39;00m\n\u001b[1;32m--> 229\u001b[0m \u001b[39mraise\u001b[39;00m exception_class(message, screen, stacktrace)\n",
      "\u001b[1;31mElementClickInterceptedException\u001b[0m: Message: element click intercepted: Element <span>...</span> is not clickable at point (892, 245). Other element would receive the click: <div class=\"jconfirm-cell\">...</div>\n  (Session info: chrome=118.0.5993.89)\nStacktrace:\n\tGetHandleVerifier [0x00007FF7604A8EF2+54786]\n\t(No symbol) [0x00007FF760415612]\n\t(No symbol) [0x00007FF7602CA64B]\n\t(No symbol) [0x00007FF760311A6B]\n\t(No symbol) [0x00007FF76030FE39]\n\t(No symbol) [0x00007FF76030DC08]\n\t(No symbol) [0x00007FF76030CCC3]\n\t(No symbol) [0x00007FF7603029CF]\n\t(No symbol) [0x00007FF76032BE6A]\n\t(No symbol) [0x00007FF7603022E6]\n\t(No symbol) [0x00007FF76032C080]\n\t(No symbol) [0x00007FF760344D02]\n\t(No symbol) [0x00007FF76032BC43]\n\t(No symbol) [0x00007FF760300941]\n\t(No symbol) [0x00007FF760301B84]\n\tGetHandleVerifier [0x00007FF7607F7F52+3524194]\n\tGetHandleVerifier [0x00007FF76084D800+3874576]\n\tGetHandleVerifier [0x00007FF760845D7F+3843215]\n\tGetHandleVerifier [0x00007FF760545086+694166]\n\t(No symbol) [0x00007FF760420A88]\n\t(No symbol) [0x00007FF76041CA94]\n\t(No symbol) [0x00007FF76041CBC2]\n\t(No symbol) [0x00007FF76040CC83]\n\tBaseThreadInitThunk [0x00007FFC31D07344+20]\n\tRtlUserThreadStart [0x00007FFC330026B1+33]\n"
     ]
    }
   ],
   "source": [
    "time.sleep(3)\n",
    "drv.find_element(By.XPATH, value='//span[text()=\"Prenota\"]').click()"
   ]
  },
  {
   "cell_type": "code",
   "execution_count": null,
   "metadata": {},
   "outputs": [],
   "source": []
  },
  {
   "cell_type": "code",
   "execution_count": null,
   "metadata": {},
   "outputs": [],
   "source": []
  },
  {
   "cell_type": "code",
   "execution_count": null,
   "metadata": {},
   "outputs": [],
   "source": []
  }
 ],
 "metadata": {
  "kernelspec": {
   "display_name": "Python 3",
   "language": "python",
   "name": "python3"
  },
  "language_info": {
   "codemirror_mode": {
    "name": "ipython",
    "version": 3
   },
   "file_extension": ".py",
   "mimetype": "text/x-python",
   "name": "python",
   "nbconvert_exporter": "python",
   "pygments_lexer": "ipython3",
   "version": "3.11.4"
  },
  "orig_nbformat": 4
 },
 "nbformat": 4,
 "nbformat_minor": 2
}
