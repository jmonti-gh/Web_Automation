{
 "cells": [
  {
   "cell_type": "markdown",
   "metadata": {},
   "source": [
    "# WEB Automation - Form filling\n",
    "- https://evertutorial.com/articles/PythonAutomation/AutomatedFormFilling"
   ]
  },
  {
   "cell_type": "code",
   "execution_count": 4,
   "metadata": {},
   "outputs": [],
   "source": [
    "from selenium import webdriver\n",
    "from selenium.webdriver.common.keys import Keys\n",
    "from selenium.webdriver.common.by import By\n",
    "\n",
    "drv = webdriver.Chrome()\n",
    "drv.get('https://www.facebook.com')"
   ]
  },
  {
   "cell_type": "code",
   "execution_count": null,
   "metadata": {},
   "outputs": [],
   "source": []
  },
  {
   "cell_type": "code",
   "execution_count": null,
   "metadata": {},
   "outputs": [],
   "source": [
    "# https://selenium-python.readthedocs.io/navigating.html\n",
    "# https://www.geeksforgeeks.org/automatically-filling-multiple-responses-into-a-google-form-with-selenium-and-python/\n",
    "# https://realpython.com/modern-web-automation-with-python-and-selenium/\n",
    "# https://www.lambdatest.com/blog/how-to-automate-filling-in-web-forms-with-python-using-selenium/\n",
    "# https://stackoverflow.com/questions/28932205/automatizing-web-browser-form-filling-in-python\n",
    "# https://stackoverflow.com/questions/55737067/how-do-i-fill-out-a-form-using-python-and-selenium\n",
    "# https://learn.onemonth.com/automate-web-forms-with-python/\n",
    "# https://stackoverflow.com/questions/28932205/automatizing-web-browser-form-filling-in-python\n",
    "# https://www.lambdatest.com/blog/how-to-automate-filling-in-web-forms-with-python-using-selenium/"
   ]
  },
  {
   "cell_type": "code",
   "execution_count": null,
   "metadata": {},
   "outputs": [],
   "source": []
  },
  {
   "cell_type": "code",
   "execution_count": null,
   "metadata": {},
   "outputs": [],
   "source": []
  },
  {
   "cell_type": "code",
   "execution_count": null,
   "metadata": {},
   "outputs": [],
   "source": []
  }
 ],
 "metadata": {
  "kernelspec": {
   "display_name": "Python 3",
   "language": "python",
   "name": "python3"
  },
  "language_info": {
   "codemirror_mode": {
    "name": "ipython",
    "version": 3
   },
   "file_extension": ".py",
   "mimetype": "text/x-python",
   "name": "python",
   "nbconvert_exporter": "python",
   "pygments_lexer": "ipython3",
   "version": "3.11.0"
  },
  "orig_nbformat": 4
 },
 "nbformat": 4,
 "nbformat_minor": 2
}
