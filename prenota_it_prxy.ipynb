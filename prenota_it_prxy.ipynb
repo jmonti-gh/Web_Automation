{
 "cells": [
  {
   "cell_type": "markdown",
   "metadata": {},
   "source": [
    "# WEB Auto - Prenota@mi_it\n",
    "- with HTTP Proxy"
   ]
  },
  {
   "cell_type": "markdown",
   "metadata": {},
   "source": [
    "## 1. Open the Web"
   ]
  },
  {
   "cell_type": "code",
   "execution_count": 2,
   "metadata": {},
   "outputs": [],
   "source": [
    "import time\n",
    "from threading import Thread\n",
    "import pyautogui\n",
    "from selenium.webdriver.chrome.options import Options\n",
    "from selenium import webdriver\n",
    "\n",
    "prxy = \"172.16.1.49\"\n",
    "port = \"3128\"\n",
    "prxy_usr = \"jorge.monti\"\n",
    "prxy_pwd = \"jorgemonti2009\"\n",
    "\n",
    "chrome_options = Options()\n",
    "#chrome_options.add_argument('--proxy-server={}'.format(hostname + \":\" + port))\n",
    "chrome_options.add_argument(f'--proxy-server={prxy}:{port}')\n",
    "drv = webdriver.Chrome(options=chrome_options)\n",
    "\n",
    "\n",
    "def enter_proxy_auth(proxy_username, proxy_password):\n",
    "    time.sleep(1)\n",
    "    pyautogui.typewrite(proxy_username)\n",
    "    pyautogui.press('tab')\n",
    "    pyautogui.typewrite(proxy_password)\n",
    "    pyautogui.press('enter')\n",
    "\n",
    "\n",
    "def open_a_page(drv, url):\n",
    "    drv.get(url)\n",
    "\n",
    "\n",
    "Thread(target=open_a_page, args=(drv, \"http://www.google.com/\")).start()\n",
    "Thread(target=enter_proxy_auth, args=(prxy_usr, prxy_pwd)).start()"
   ]
  },
  {
   "cell_type": "code",
   "execution_count": 1,
   "metadata": {},
   "outputs": [],
   "source": [
    "import time\n",
    "from selenium import webdriver\n",
    "from selenium.webdriver.common.by import By\n",
    "\n",
    "\n",
    "drv = webdriver.Chrome()\n",
    "drv.implicitly_wait(3)\n",
    "#drv.get(\"https://prenotami.esteri.it/Home?ReturnUrl=%2fServices\")\n",
    "drv.get(\"https://prenotami.esteri.it/\")\n",
    "drv.maximize_window()"
   ]
  },
  {
   "cell_type": "markdown",
   "metadata": {},
   "source": [
    "## 2. Accedi - Email\n",
    "- <input class=\"form-control\" data-val=\"true\" data-val-email=\"Indirizzo E-mail non valido\" data-val-length=\"Lunghezza Email errata\" data-val-length-max=\"255\" data-val-length-min=\"1\" data-val-required=\"Email richiesta\" id=\"login-email\" name=\"Email\" required=\"required\" type=\"email\" value=\"\">\n",
    "\n",
    "- Copy outer HTML:       \n",
    "`<input class=\"form-control\" data-val=\"true\" data-val-email=\"Indirizzo E-mail non valido\" data-val-length=\"Lunghezza Email errata\" data-val-length-max=\"255\" data-val-length-min=\"1\" data-val-required=\"Email richiesta\" id=\"login-email\" name=\"Email\" required=\"required\" type=\"email\" value=\"\">>`"
   ]
  },
  {
   "cell_type": "code",
   "execution_count": 2,
   "metadata": {},
   "outputs": [],
   "source": [
    "# By.ID it's ok.\n",
    "email = drv.find_element(By.ID, \"login-email\")\n",
    "email.send_keys('ramiroluis2k12@gmail.com')"
   ]
  },
  {
   "cell_type": "markdown",
   "metadata": {},
   "source": [
    "## 3. Iniciar sesión - Contraseña\n",
    "- <input class=\"form-control\" data-val=\"true\" data-val-length=\"Lunghezza Password errata\" data-val-length-max=\"30\" data-val-length-min=\"8\" data-val-regex=\"Password Errata\" data-val-regex-pattern=\"^(?=.{8,}$)(?=.*[a-z])(?=.*[A-Z])(?=.*[0-9]).*$\" data-val-required=\"Password richiesta\" id=\"login-password\" maxlength=\"20\" minlength=\"8\" name=\"Password\" required=\"required\" type=\"password\" value=\"\">    \n",
    "`<input class=\"form-control\" data-val=\"true\" data-val-length=\"Lunghezza Password errata\" data-val-length-max=\"30\" data-val-length-min=\"8\" data-val-regex=\"Password Errata\" data-val-regex-pattern=\"^(?=.{8,}$)(?=.*[a-z])(?=.*[A-Z])(?=.*[0-9]).*$\" data-val-required=\"Password richiesta\" id=\"login-password\" maxlength=\"20\" minlength=\"8\" name=\"Password\" required=\"required\" type=\"password\" value=\"\">`"
   ]
  },
  {
   "cell_type": "code",
   "execution_count": 3,
   "metadata": {},
   "outputs": [],
   "source": [
    "pwd = drv.find_element(By.ID, \"login-password\")\n",
    "pwd.send_keys('Secretariacell1983')"
   ]
  },
  {
   "cell_type": "markdown",
   "metadata": {},
   "source": [
    "## 4. AVANTI (button)\n",
    "- <button type=\"submit\" class=\"button primary g-recaptcha\" data-sitekey=\"6LdSmG4cAAAAAOarRxGIhehvv4sPgVeF-vRi-Jqb\" data-callback=\"onSubmit\">Avanti</button>   \n",
    "`<button type=\"submit\" class=\"button primary g-recaptcha\" data-sitekey=\"6LdSmG4cAAAAAOarRxGIhehvv4sPgVeF-vRi-Jqb\" data-callback=\"onSubmit\">Avanti</button>`"
   ]
  },
  {
   "cell_type": "code",
   "execution_count": 4,
   "metadata": {},
   "outputs": [],
   "source": [
    "#drv.find_element(By.CLASS_NAME, \"button primary g-recaptcha\").click()\n",
    "#drv.find_element(By.LINK_TEXT, \"Avanti\").click()\n",
    "drv.find_element(By.XPATH, value='//button[@data-sitekey=\"6LdSmG4cAAAAAOarRxGIhehvv4sPgVeF-vRi-Jqb\"]').click()"
   ]
  },
  {
   "cell_type": "markdown",
   "metadata": {},
   "source": [
    "## 5. Prenota (Menu option)\n",
    "- <span>Prenota</span>\n",
    "- <span>Prenota</span>"
   ]
  },
  {
   "cell_type": "code",
   "execution_count": 5,
   "metadata": {},
   "outputs": [],
   "source": [
    "drv.find_element(By.XPATH, value='//span[text()=\"Prenota\"]').click()"
   ]
  },
  {
   "cell_type": "markdown",
   "metadata": {},
   "source": [
    "## 6. Disconnetti\n",
    "- <span>Disconnetti</span>"
   ]
  },
  {
   "cell_type": "code",
   "execution_count": null,
   "metadata": {},
   "outputs": [],
   "source": [
    "time.sleep(3)\n",
    "drv.find_element(By.XPATH, value='//span[text()=\"Prenota\"]').click()"
   ]
  },
  {
   "cell_type": "code",
   "execution_count": null,
   "metadata": {},
   "outputs": [],
   "source": []
  },
  {
   "cell_type": "code",
   "execution_count": null,
   "metadata": {},
   "outputs": [],
   "source": []
  },
  {
   "cell_type": "code",
   "execution_count": null,
   "metadata": {},
   "outputs": [],
   "source": []
  }
 ],
 "metadata": {
  "kernelspec": {
   "display_name": "Python 3",
   "language": "python",
   "name": "python3"
  },
  "language_info": {
   "codemirror_mode": {
    "name": "ipython",
    "version": 3
   },
   "file_extension": ".py",
   "mimetype": "text/x-python",
   "name": "python",
   "nbconvert_exporter": "python",
   "pygments_lexer": "ipython3",
   "version": "3.11.4"
  },
  "orig_nbformat": 4
 },
 "nbformat": 4,
 "nbformat_minor": 2
}
