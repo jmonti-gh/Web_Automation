{
 "cells": [
  {
   "cell_type": "markdown",
   "metadata": {},
   "source": [
    "# WEB Automation"
   ]
  },
  {
   "cell_type": "code",
   "execution_count": 22,
   "metadata": {},
   "outputs": [],
   "source": [
    "# ## To Test ClassVar\n",
    "# class JM:\n",
    "#     classvar = 1\n",
    "#     def __init__(self) -> None:\n",
    "#         self.instvar = 2\n",
    "\n",
    "# jm1 = JM()\n",
    "# print('DICS:')\n",
    "# print(jm1.__dict__, jm1.classvar, JM.classvar)\n",
    "# print(JM.__dict__)\n",
    "# print('----------------------------------------------')\n",
    "# print('DIRs:')\n",
    "# print(dir(jm1))\n",
    "# print(dir(JM))"
   ]
  },
  {
   "cell_type": "markdown",
   "metadata": {},
   "source": [
    "## 1. Simple Usage"
   ]
  },
  {
   "cell_type": "code",
   "execution_count": 23,
   "metadata": {},
   "outputs": [
    {
     "name": "stdout",
     "output_type": "stream",
     "text": [
      "4.13.0\n",
      "PyPI · The Python Package Index\n"
     ]
    }
   ],
   "source": [
    "import selenium as sl\n",
    "print(sl.__version__)\n",
    "\n",
    "import time\n",
    "\n",
    "from selenium import webdriver\n",
    "from selenium.webdriver.common.keys import Keys\n",
    "from selenium.webdriver.common.by import By\n",
    "\n",
    "\n",
    "drv = webdriver.Firefox()\n",
    "#drv.get('https://www.python.org')\n",
    "drv.get('https://www.pypi.org')\n",
    "\n",
    "# for k, v in drv.__dict__.items():\n",
    "#     if isinstance(v, dict):\n",
    "#     #if type(v) == type(dict()):\n",
    "#         print(k, '->')   \n",
    "#         for sk, sv in v.items():\n",
    "#             print(f'''\\t{sk} -> {sv}''')\n",
    "#     else:\n",
    "#         print(k, '->', v)\n",
    "\n",
    "# title IS a CLASSVAR ¿?\n",
    "#print(webdriver.Firefox.title)\n",
    "print(drv.title)\n",
    "assert 'python' in drv.title.lower()\n",
    "elem = drv.find_element(By.NAME, 'q')\n",
    "elem.clear()                # To be safe, it doesn't affect.\n",
    "elem.send_keys('selenium')     # entering keys using keyboard\n",
    "elem.send_keys(Keys.RETURN) \n",
    "#print(drv.page_source)\n",
    "assert 'No results found.' not in drv.page_source\n",
    "time.sleep(3)\n",
    "drv.close()"
   ]
  },
  {
   "cell_type": "markdown",
   "metadata": {},
   "source": [
    "## 2. Using Selenium to write tests"
   ]
  },
  {
   "cell_type": "code",
   "execution_count": 24,
   "metadata": {},
   "outputs": [
    {
     "name": "stderr",
     "output_type": "stream",
     "text": [
      ".\n",
      "----------------------------------------------------------------------\n",
      "Ran 1 test in 10.157s\n",
      "\n",
      "OK\n"
     ]
    }
   ],
   "source": [
    "import unittest\n",
    "from selenium import webdriver\n",
    "from selenium.webdriver.common.keys import Keys\n",
    "from selenium.webdriver.common.by import By\n",
    "\n",
    "class PythonOrgSearch(unittest.TestCase):\n",
    "\n",
    "    def setUp(self):\n",
    "        self.driver = webdriver.Firefox()\n",
    "\n",
    "    def test_search_in_python_org(self):\n",
    "        driver = self.driver\n",
    "        driver.get(\"http://www.pypi.org\")\n",
    "        self.assertIn(\"python\", driver.title.lower())\n",
    "        elem = driver.find_element(By.NAME, \"q\")\n",
    "        elem.send_keys(\"selenium\")\n",
    "        elem.send_keys(Keys.RETURN)\n",
    "        self.assertNotIn(\"No results found.\", driver.page_source)\n",
    "\n",
    "    def tearDown(self):\n",
    "        self.driver.close()\n",
    "\n",
    "\n",
    "if __name__ == \"__main__\":\n",
    "    # unittest.main()\n",
    "    unittest.main(argv=['first-arg-is-ignored'], exit=False)"
   ]
  },
  {
   "cell_type": "markdown",
   "metadata": {},
   "source": [
    "## 3. Naigating"
   ]
  },
  {
   "cell_type": "markdown",
   "metadata": {},
   "source": [
    "### 3.1. Interacting with the page"
   ]
  },
  {
   "cell_type": "code",
   "execution_count": null,
   "metadata": {},
   "outputs": [],
   "source": []
  },
  {
   "cell_type": "markdown",
   "metadata": {},
   "source": [
    "### 3.2. Filling in forms"
   ]
  },
  {
   "cell_type": "code",
   "execution_count": null,
   "metadata": {},
   "outputs": [],
   "source": []
  },
  {
   "cell_type": "code",
   "execution_count": 25,
   "metadata": {},
   "outputs": [],
   "source": [
    "# https://selenium-python.readthedocs.io/navigating.html\n",
    "# https://www.geeksforgeeks.org/automatically-filling-multiple-responses-into-a-google-form-with-selenium-and-python/\n",
    "# https://realpython.com/modern-web-automation-with-python-and-selenium/\n",
    "# https://www.lambdatest.com/blog/how-to-automate-filling-in-web-forms-with-python-using-selenium/\n",
    "# https://stackoverflow.com/questions/28932205/automatizing-web-browser-form-filling-in-python\n",
    "# https://stackoverflow.com/questions/55737067/how-do-i-fill-out-a-form-using-python-and-selenium\n",
    "# https://learn.onemonth.com/automate-web-forms-with-python/\n",
    "# https://stackoverflow.com/questions/28932205/automatizing-web-browser-form-filling-in-python"
   ]
  },
  {
   "cell_type": "code",
   "execution_count": null,
   "metadata": {},
   "outputs": [],
   "source": []
  },
  {
   "cell_type": "code",
   "execution_count": null,
   "metadata": {},
   "outputs": [],
   "source": []
  },
  {
   "cell_type": "code",
   "execution_count": null,
   "metadata": {},
   "outputs": [],
   "source": []
  }
 ],
 "metadata": {
  "kernelspec": {
   "display_name": "Python 3",
   "language": "python",
   "name": "python3"
  },
  "language_info": {
   "codemirror_mode": {
    "name": "ipython",
    "version": 3
   },
   "file_extension": ".py",
   "mimetype": "text/x-python",
   "name": "python",
   "nbconvert_exporter": "python",
   "pygments_lexer": "ipython3",
   "version": "3.11.0"
  },
  "orig_nbformat": 4
 },
 "nbformat": 4,
 "nbformat_minor": 2
}
