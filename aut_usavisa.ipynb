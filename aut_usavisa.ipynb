{
 "cells": [
  {
   "cell_type": "markdown",
   "metadata": {},
   "source": [
    "# WEB Automation - Form filling"
   ]
  },
  {
   "cell_type": "markdown",
   "metadata": {},
   "source": [
    "## 1. Open the Web Form"
   ]
  },
  {
   "cell_type": "code",
   "execution_count": 1,
   "metadata": {},
   "outputs": [],
   "source": [
    "from selenium import webdriver\n",
    "import time\n",
    "\n",
    "browser = webdriver.Chrome()\n",
    "browser.get(\"https://ais.usvisa-info.com/es-ar/niv\")\n",
    "# browser.maximize_window()"
   ]
  },
  {
   "cell_type": "markdown",
   "metadata": {},
   "source": [
    "## 2. <div class=\"homeContinueBg\">\n",
    "<a title=\"Seleccione esta opción para continuar o revisar una solicitud de visa ya existente, o en caso de que ya disponga de una cuenta en este sitio.\" href=\"/es-ar/niv/users/sign_in\">Continuar</a>\n",
    "</div>\n",
    "\n",
    "- Copy element:    \n",
    "`<div class=\"homeContinueBg\">`    \n",
    "`<a title=\"Seleccione esta opción para continuar o revisar una solicitud de visa ya existente, o en caso de que ya disponga de una cuenta en este sitio.\" href=\"/es-ar/niv/users/sign_in\">Continuar</a>`    \n",
    "`</div>`\n",
    "\n",
    "- Copy XPath (absolute)    \n",
    "//*[@id=\"main\"]/div[2]/div[3]/div[2]/div[1]/div\n",
    "\n",
    "- Relative XPath ?\n"
   ]
  },
  {
   "cell_type": "code",
   "execution_count": 2,
   "metadata": {},
   "outputs": [],
   "source": [
    "from selenium.webdriver.common.by import By\n",
    "\n",
    "# By.CLASS_NAME it's ok.\n",
    "Continuar = browser.find_element(By.CLASS_NAME, \"homeContinueBg\")\n",
    "Continuar.click()"
   ]
  },
  {
   "cell_type": "markdown",
   "metadata": {},
   "source": [
    "## 3. Iniciar sesión - Correo electrónico\n",
    "- <input class=\"string email required\" type=\"email\" value=\"\" name=\"user[email]\" id=\"user_email\">    \n",
    "`<input class=\"string email required\" type=\"email\" value=\"\" name=\"user[email]\" id=\"user_email\">`"
   ]
  },
  {
   "cell_type": "code",
   "execution_count": 3,
   "metadata": {},
   "outputs": [],
   "source": [
    "Correo = browser.find_element(By.ID, \"user_email\")\n",
    "Correo.send_keys('sofia.monti@fce.uncu.edu.ar')"
   ]
  },
  {
   "cell_type": "markdown",
   "metadata": {},
   "source": [
    "## 4. Iniciar sesión - Contraseña\n",
    "- <input class=\"password optional\" type=\"password\" name=\"user[password]\" id=\"user_password\">    \n",
    "`<input class=\"password optional\" type=\"password\" name=\"user[password]\" id=\"user_password\">`"
   ]
  },
  {
   "cell_type": "code",
   "execution_count": 4,
   "metadata": {},
   "outputs": [],
   "source": [
    "Contraseña = browser.find_element(By.ID, \"user_password\")\n",
    "Contraseña.send_keys('Resar123feo')"
   ]
  },
  {
   "cell_type": "markdown",
   "metadata": {},
   "source": [
    "## 5. Iniciar sesión - Términos\n",
    "- <div class=\"icheckbox icheck-item icheck[vxbu1] icheck-area-20\" style=\"position: relative;\"><input type=\"checkbox\" name=\"policy_confirmed\" id=\"policy_confirmed\" value=\"1\" class=\"icheck-input icheck[vxbu1]\"></div>    \n",
    "`<div class=\"icheckbox icheck-item icheck[vxbu1] icheck-area-20\" style=\"position: relative;\"><input type=\"checkbox\" name=\"policy_confirmed\" id=\"policy_confirmed\" value=\"1\" class=\"icheck-input icheck[vxbu1]\"></div>`"
   ]
  },
  {
   "cell_type": "code",
   "execution_count": 5,
   "metadata": {},
   "outputs": [],
   "source": [
    "terms = browser.find_element(By.ID, \"policy_confirmed\")\n",
    "browser.execute_script(\"arguments[0].click();\", terms)\n",
    "# https://stackoverflow.com/questions/37879010/selenium-debugging-element-is-not-clickable-at-point-x-y"
   ]
  },
  {
   "cell_type": "markdown",
   "metadata": {},
   "source": [
    "## 6. Iniciar sesión Button\n",
    "- <input type=\"submit\" name=\"commit\" value=\"Iniciar sesión\" class=\"button primary\" data-disable-with=\"Iniciar sesión\">    \n",
    "`<input type=\"submit\" name=\"commit\" value=\"Iniciar sesión\" class=\"button primary\" data-disable-with=\"Iniciar sesión\">`"
   ]
  },
  {
   "cell_type": "code",
   "execution_count": 6,
   "metadata": {},
   "outputs": [],
   "source": [
    "browser.find_element(By.XPATH, value=\"//input[@value='Iniciar sesión']\").click()"
   ]
  },
  {
   "cell_type": "markdown",
   "metadata": {},
   "source": [
    "## 7. Continuar Green Button\n",
    "- <a class=\"button primary small\" href=\"/es-ar/niv/schedule/51198240/continue_actions\">Continuar</a>  \n",
    "`<a class=\"button primary small\" href=\"/es-ar/niv/schedule/51198240/continue_actions\">Continuar</a>`\n",
    "\n",
    "Copy full XPath:    \n",
    "/html/body/div[4]/main/div[2]/div[2]/div[1]/div/div/div[1]/div[2]/ul/li/a\n",
    "\n",
    "Copy XPath:    \n",
    "//*[@id=\"main\"]/div[2]/div[2]/div[1]/div/div/div[1]/div[2]/ul/li/a"
   ]
  },
  {
   "cell_type": "code",
   "execution_count": 7,
   "metadata": {},
   "outputs": [],
   "source": [
    "time.sleep(2)\n",
    "browser.find_element(By.LINK_TEXT, \"Continuar\").click()\n",
    "# locators.html - https://www.selenium.dev/documentation/webdriver/elements/locators/\n",
    "# browser.find_element(By.XPATH,\n",
    "#                      \"/html/body/div[4]/main/div[2]/div[2]/div[1]/div/div/div[1]/div[2]/ul/li/a\").click()"
   ]
  },
  {
   "cell_type": "markdown",
   "metadata": {},
   "source": [
    "## 8. Protrame la cita.\n",
    "- <h5>\n",
    "            <span class=\"fas fa-calendar-alt fa-lg fa-fw\"></span>\n",
    "            Programe la cita\n",
    "          </h5>\n",
    "`<h5>\n",
    "            <span class=\"fas fa-calendar-alt fa-lg fa-fw\"></span>\n",
    "            Programe la cita\n",
    "          </h5>`\n",
    "\n",
    "Copy full XPath (absolute):    \n",
    "/html/body/div[4]/main/div[2]/div[2]/div/section/ul/li[1]/a/h5/span\n",
    "\n",
    "Copy XPath:    \n",
    "//*[@id=\"d9bpd2-accordion-label\"]/h5/span"
   ]
  },
  {
   "cell_type": "code",
   "execution_count": 8,
   "metadata": {},
   "outputs": [],
   "source": [
    "browser.find_element(By.XPATH, \"/html/body/div[4]/main/div[2]/div[2]/div/section/ul/li[1]/a/h5/span\").click()"
   ]
  },
  {
   "cell_type": "markdown",
   "metadata": {},
   "source": [
    "## 9. Programe la cita Button\n",
    "- <a class=\"button small primary small-only-expanded\" href=\"/es-ar/niv/schedule/51198240/continue\">Programe la cita</a>\n",
    "`<a class=\"button small primary small-only-expanded\" href=\"/es-ar/niv/schedule/51198240/continue\">Programe la cita</a>`\n",
    "\n",
    "Copy full XPath (absolute):    \n",
    "/html/body/div[4]/main/div[2]/div[2]/div/section/ul/li[1]/div/div/div[2]/p[2]/a"
   ]
  },
  {
   "cell_type": "code",
   "execution_count": 9,
   "metadata": {},
   "outputs": [],
   "source": [
    "time.sleep(2)\n",
    "browser.find_element(By.XPATH, \"/html/body/div[4]/main/div[2]/div[2]/div/section/ul/li[1]/div/div/div[2]/p[2]/a\").click()\n",
    "#browser.find_element(By.LINK_TEXT, \"Programe la cita\").click()"
   ]
  },
  {
   "cell_type": "markdown",
   "metadata": {},
   "source": [
    "## 10. Check if 'No existen citas...\""
   ]
  },
  {
   "cell_type": "code",
   "execution_count": 10,
   "metadata": {},
   "outputs": [],
   "source": [
    "# try:\n",
    "#     bad_msg = 'No existen citas disponibles en la ubicación seleccionada. Por favor vuelva a intentar después.'\n",
    "#     if bad_msg in browser.page_source:\n",
    "#         status = 1\n",
    "#         print(f''' Que problema:\\n {bad_msg}''')\n",
    "#     else:\n",
    "#         status = 0\n",
    "#         print(f''' NUNCA VIMOS QUE PASA ACA''')\n",
    "# except Exception as e:\n",
    "#     print(f'''Error! {e}''')\n",
    "# else:\n",
    "#     if status ==  0:\n",
    "#         # Succes, kepp the browser open\n",
    "#         print('MIRE EL NAVEGADOR')\n",
    "#     elif status == 1:\n",
    "#         time.sleep(5)\n",
    "#         browser.find_element(By.XPATH,\n",
    "#                              \"/html/body/div[4]/header/nav/div/div/div[2]/div[1]/ul/li[3]/ul/li[4]/a\").click()\n",
    "#         # close user session\n",
    "#         # close browser\n"
   ]
  },
  {
   "cell_type": "markdown",
   "metadata": {},
   "source": [
    "## Pruebas"
   ]
  },
  {
   "cell_type": "markdown",
   "metadata": {},
   "source": [
    "### Click en barra de menú acciones\n",
    "- <a tabindex=\"0\">\n",
    "<span class=\"hide-for-medium fas fa-cogs fa-lg\"></span>\n",
    "Acciones\n",
    "</a>    \n",
    "`<a tabindex=\"0\">\n",
    "<span class=\"hide-for-medium fas fa-cogs fa-lg\"></span>\n",
    "Acciones\n",
    "</a>`\n",
    "\n",
    "Copy full XPath:    \n",
    "/html/body/div[2]/div/ul/li[3]/a\n",
    "\n",
    "`<div class=\"show-for-medium nav-container\">\n",
    "<ul class=\"vertical medium-horizontal menu dropdown\" data-back-button=\"<li class='js-drilldown-back'><a tabindex='0' class='new-back'>Back</a></li>\" data-responsive-menu=\"drilldown medium-dropdown\" role=\"menubar\" data-dropdown-menu=\"skxzjf-dropdown-menu\" data-mutate=\"qzjmnr-responsive-menu\" data-events=\"mutate\" data-is-click=\"false\">\n",
    "<li role=\"menuitem\">\n",
    "<a href=\"/es-ar/niv/account\"><span class=\"hide-for-medium fas fa-home fa-lg\"></span>\n",
    "Inicio\n",
    "</a></li>\n",
    "<li role=\"menuitem\" class=\"is-dropdown-submenu-parent opens-left\" aria-haspopup=\"true\" aria-label=\"\n",
    "\n",
    "Idioma\n",
    "\" data-is-click=\"false\">\n",
    "<a>\n",
    "<span class=\"hide-for-medium fas fa-language fa-lg\"></span>\n",
    "Idioma\n",
    "</a>\n",
    "<ul class=\"menu submenu is-dropdown-submenu first-sub vertical\" data-submenu=\"\" role=\"menubar\" style=\"\">\n",
    "<li role=\"menuitem\" class=\"is-submenu-item is-dropdown-submenu-item\">\n",
    "<a href=\"/es-ar/niv/schedule/51198240/appointment\" class=\"active\">español</a>\n",
    "</li>\n",
    "<li role=\"menuitem\" class=\"is-submenu-item is-dropdown-submenu-item\">\n",
    "<a href=\"/en-ar/niv/schedule/51198240/appointment\">inglés</a>\n",
    "</li>\n",
    "</ul>\n",
    "</li>\n",
    "<li role=\"menuitem\" class=\"is-dropdown-submenu-parent opens-left\" aria-haspopup=\"true\" aria-label=\"\n",
    "\n",
    "Acciones\n",
    "\" data-is-click=\"false\">\n",
    "<a href=\"#\">\n",
    "<span class=\"hide-for-medium fas fa-cogs fa-lg\"></span>\n",
    "Acciones\n",
    "</a>\n",
    "<ul class=\"vertical menu submenu is-dropdown-submenu first-sub\" data-submenu=\"\" role=\"menubar\" style=\"\">\n",
    "<li class=\"dropdown is-dropdown-submenu-parent is-submenu-item is-dropdown-submenu-item opens-left\" role=\"menuitem\" aria-haspopup=\"true\" aria-label=\"Configuración de la cuenta\" data-is-click=\"false\"><a class=\"trigger right-caret\" href=\"#\">Configuración de la cuenta</a><ul class=\"menu dropdown-menu sub-menu left submenu is-dropdown-submenu vertical\" data-submenu=\"\" role=\"menubar\" style=\"\"><li role=\"menuitem\" class=\"is-submenu-item is-dropdown-submenu-item\"><a href=\"/es-ar/niv/account/settings/update_password\">Cambiar la contraseña</a></li>\n",
    "<li role=\"menuitem\" class=\"is-submenu-item is-dropdown-submenu-item\"><a href=\"/es-ar/niv/account/settings/update_email\">Actualizar correo electrónico</a></li>\n",
    "<li role=\"menuitem\" class=\"is-submenu-item is-dropdown-submenu-item\"><a href=\"/es-ar/niv/requests/new/group_agent_request\">Solicitud para ser Procesador de Grupo</a></li>\n",
    "<li role=\"menuitem\" class=\"is-submenu-item is-dropdown-submenu-item\"><a href=\"/es-ar/niv/account/settings/edit_mobile_phone\">Acepta o No Acepta textos de alertas.</a></li>\n",
    "\n",
    "</ul></li><li class=\"dropdown is-dropdown-submenu-parent is-submenu-item is-dropdown-submenu-item opens-left\" role=\"menuitem\" aria-haspopup=\"true\" aria-label=\"Ayuda\" data-is-click=\"false\"><a class=\"trigger right-caret\" href=\"#\">Ayuda</a><ul class=\"menu dropdown-menu sub-menu left submenu is-dropdown-submenu vertical\" data-submenu=\"\" role=\"menubar\" style=\"\"><li role=\"menuitem\" class=\"is-submenu-item is-dropdown-submenu-item\"><a href=\"/es-ar/niv/information/niv\">Cómo solicitar una visa / Descripción general de visas</a></li>\n",
    "<li role=\"menuitem\" class=\"is-submenu-item is-dropdown-submenu-item\"><a href=\"/es-ar/niv/information/visa_categories\">Categorías de visas para no inmigrantes</a></li>\n",
    "<li role=\"menuitem\" class=\"is-submenu-item is-dropdown-submenu-item\"><a href=\"/es-ar/niv/information/fee\">Aranceles de visa</a></li>\n",
    "<li role=\"menuitem\" class=\"is-submenu-item is-dropdown-submenu-item\"><a href=\"/es-ar/niv/information/visa_wait_times\">Tiempos de espera para solicitar una visa</a></li>\n",
    "<li role=\"menuitem\" class=\"is-submenu-item is-dropdown-submenu-item\"><a href=\"/es-ar/niv/information/required_docs\">Documentación requerida</a></li>\n",
    "<li role=\"menuitem\" class=\"is-submenu-item is-dropdown-submenu-item\"><a href=\"/es-ar/niv/information/courier\">Servicio de correo</a></li>\n",
    "<li role=\"menuitem\" class=\"is-submenu-item is-dropdown-submenu-item\"><a href=\"/es-ar/niv/information/groups\">Procesamiento de Grupo Empresas, agencias de viajes y otras organizaciones</a></li>\n",
    "<li role=\"menuitem\" class=\"is-submenu-item is-dropdown-submenu-item\"><a href=\"/es-ar/niv/information/consulate\">Información de la Sección Consular</a></li>\n",
    "<li role=\"menuitem\" class=\"is-submenu-item is-dropdown-submenu-item\"><a href=\"/es-ar/niv/information/asc\">Información del CAS</a></li>\n",
    "<li role=\"menuitem\" class=\"is-submenu-item is-dropdown-submenu-item\"><a href=\"/es-ar/iv\">Visas para inmigrantes</a></li>\n",
    "<li role=\"menuitem\" class=\"is-submenu-item is-dropdown-submenu-item\"><a href=\"/es-ar/niv/information/lpr_help\">Residentes legales permanentes que retornan (LPR)</a></li>\n",
    "<li role=\"menuitem\" class=\"is-submenu-item is-dropdown-submenu-item\"><a href=\"/es-ar/niv/information/special_visas\">Visa Especial (diplomáticos, OTAN, etc.)</a></li>\n",
    "<li role=\"menuitem\" class=\"is-submenu-item is-dropdown-submenu-item\"><a href=\"/es-ar/niv/information/faqs\">Preguntas frecuentes</a></li>\n",
    "<li role=\"menuitem\" class=\"is-submenu-item is-dropdown-submenu-item\"><a href=\"/es-ar/niv/information/privacy_policy\">Política de privacidad y los Términos de uso</a></li>\n",
    "\n",
    "</ul></li><li class=\"divider is-submenu-item is-dropdown-submenu-item\" role=\"menuitem\"></li>\n",
    "<li role=\"menuitem\" class=\"is-submenu-item is-dropdown-submenu-item\">\n",
    "<a href=\"/es-ar/niv/users/sign_out\">Finalizar sesión</a>\n",
    "</li>\n",
    "</ul>\n",
    "</li>\n",
    "</ul>\n",
    "\n",
    "</div>`"
   ]
  },
  {
   "cell_type": "code",
   "execution_count": 11,
   "metadata": {},
   "outputs": [],
   "source": [
    "from selenium.webdriver.support.ui import Select\n",
    "#browser.find_element(By.CLASS_NAME, \"top-bar-right\")\n",
    "#browser.find_element(By.XPATH, value=\"//div[@role='menuitem' and .='Finalizar sesión]\").click()\n",
    "\n",
    "#browser.find_element(By.XPATH, value=\"//div[@role='menuitem' and .='Finalizar sesión']\").click();\n",
    "\n",
    "#browser.find_element(By.XPATH, \"is-submenu-item is-dropdown-submenu-item\")\n",
    "#browser.find_element(By.XPATH, \"show-for-medium nav-container\")\n",
    "# dd1 = Select(browser.find_element(By.CLASS_NAME, \"top-bar-right\"))\n",
    "# dd1.select_by_visible_text('Acciones')"
   ]
  },
  {
   "cell_type": "code",
   "execution_count": 15,
   "metadata": {},
   "outputs": [
    {
     "ename": "TimeoutException",
     "evalue": "Message: \n",
     "output_type": "error",
     "traceback": [
      "\u001b[1;31m---------------------------------------------------------------------------\u001b[0m",
      "\u001b[1;31mTimeoutException\u001b[0m                          Traceback (most recent call last)",
      "\u001b[1;32mc:\\Users\\jmonti\\Documents\\mchi\\Dev\\git_github_gitlab\\PortableGit\\__localRepos\\Web_Automation\\aut_usavisa.ipynb Cell 25\u001b[0m line \u001b[0;36m1\n\u001b[0;32m      <a href='vscode-notebook-cell:/c%3A/Users/jmonti/Documents/mchi/Dev/git_github_gitlab/PortableGit/__localRepos/Web_Automation/aut_usavisa.ipynb#X52sZmlsZQ%3D%3D?line=3'>4</a>\u001b[0m \u001b[39mfrom\u001b[39;00m \u001b[39mselenium\u001b[39;00m\u001b[39m.\u001b[39;00m\u001b[39mwebdriver\u001b[39;00m\u001b[39m.\u001b[39;00m\u001b[39msupport\u001b[39;00m \u001b[39mimport\u001b[39;00m expected_conditions \u001b[39mas\u001b[39;00m EC\n\u001b[0;32m      <a href='vscode-notebook-cell:/c%3A/Users/jmonti/Documents/mchi/Dev/git_github_gitlab/PortableGit/__localRepos/Web_Automation/aut_usavisa.ipynb#X52sZmlsZQ%3D%3D?line=5'>6</a>\u001b[0m \u001b[39m#button = browser.find_element(By.CLASS_NAME, u\"infoDismiss\")\u001b[39;00m\n\u001b[0;32m      <a href='vscode-notebook-cell:/c%3A/Users/jmonti/Documents/mchi/Dev/git_github_gitlab/PortableGit/__localRepos/Web_Automation/aut_usavisa.ipynb#X52sZmlsZQ%3D%3D?line=6'>7</a>\u001b[0m \u001b[39m# button = browser.find_element(By.XPATH, value='//a[@href=\"/es-ar/niv/users/sign_out\"]')\u001b[39;00m\n\u001b[0;32m      <a href='vscode-notebook-cell:/c%3A/Users/jmonti/Documents/mchi/Dev/git_github_gitlab/PortableGit/__localRepos/Web_Automation/aut_usavisa.ipynb#X52sZmlsZQ%3D%3D?line=7'>8</a>\u001b[0m \u001b[39m# browser.implicitly_wait(10)\u001b[39;00m\n\u001b[0;32m      <a href='vscode-notebook-cell:/c%3A/Users/jmonti/Documents/mchi/Dev/git_github_gitlab/PortableGit/__localRepos/Web_Automation/aut_usavisa.ipynb#X52sZmlsZQ%3D%3D?line=8'>9</a>\u001b[0m \u001b[39m# ActionChains(browser).move_to_element(button).click(button).perform()\u001b[39;00m\n\u001b[0;32m     <a href='vscode-notebook-cell:/c%3A/Users/jmonti/Documents/mchi/Dev/git_github_gitlab/PortableGit/__localRepos/Web_Automation/aut_usavisa.ipynb#X52sZmlsZQ%3D%3D?line=9'>10</a>\u001b[0m \u001b[39m#button = WebDriverWait(browser, 10).until(EC.element_to_be_clickable((By.CSS_SELECTOR, 'Finalizar sesión')))\u001b[39;00m\n\u001b[1;32m---> <a href='vscode-notebook-cell:/c%3A/Users/jmonti/Documents/mchi/Dev/git_github_gitlab/PortableGit/__localRepos/Web_Automation/aut_usavisa.ipynb#X52sZmlsZQ%3D%3D?line=10'>11</a>\u001b[0m button \u001b[39m=\u001b[39m WebDriverWait(browser, \u001b[39m10\u001b[39;49m)\u001b[39m.\u001b[39;49muntil(EC\u001b[39m.\u001b[39;49melement_to_be_clickable((By\u001b[39m.\u001b[39;49mXPATH, \u001b[39m'\u001b[39;49m\u001b[39m//a[@href=\u001b[39;49m\u001b[39m\"\u001b[39;49m\u001b[39m/es-ar/niv/users/sign_out\u001b[39;49m\u001b[39m\"\u001b[39;49m\u001b[39m]\u001b[39;49m\u001b[39m'\u001b[39;49m)))\n\u001b[0;32m     <a href='vscode-notebook-cell:/c%3A/Users/jmonti/Documents/mchi/Dev/git_github_gitlab/PortableGit/__localRepos/Web_Automation/aut_usavisa.ipynb#X52sZmlsZQ%3D%3D?line=11'>12</a>\u001b[0m button\u001b[39m.\u001b[39mclick()\n",
      "File \u001b[1;32mc:\\Users\\jmonti\\AppData\\Local\\Programs\\Python\\Python311\\Lib\\site-packages\\selenium\\webdriver\\support\\wait.py:95\u001b[0m, in \u001b[0;36mWebDriverWait.until\u001b[1;34m(self, method, message)\u001b[0m\n\u001b[0;32m     93\u001b[0m     \u001b[39mif\u001b[39;00m time\u001b[39m.\u001b[39mmonotonic() \u001b[39m>\u001b[39m end_time:\n\u001b[0;32m     94\u001b[0m         \u001b[39mbreak\u001b[39;00m\n\u001b[1;32m---> 95\u001b[0m \u001b[39mraise\u001b[39;00m TimeoutException(message, screen, stacktrace)\n",
      "\u001b[1;31mTimeoutException\u001b[0m: Message: \n"
     ]
    }
   ],
   "source": [
    "from selenium.webdriver.common.action_chains import ActionChains\n",
    "from selenium.webdriver.common.by import By\n",
    "from selenium.webdriver.support.ui import WebDriverWait\n",
    "from selenium.webdriver.support import expected_conditions as EC\n",
    "\n",
    "#button = browser.find_element(By.CLASS_NAME, u\"infoDismiss\")\n",
    "# button = browser.find_element(By.XPATH, value='//a[@href=\"/es-ar/niv/users/sign_out\"]')\n",
    "# browser.implicitly_wait(10)\n",
    "# ActionChains(browser).move_to_element(button).click(button).perform()\n",
    "#button = WebDriverWait(browser, 10).until(EC.element_to_be_clickable((By.CSS_SELECTOR, 'Finalizar sesión')))\n",
    "button = WebDriverWait(browser, 10).until(EC.element_to_be_clickable((By.XPATH, '//a[@href=\"/es-ar/niv/users/sign_out\"]')))\n",
    "button.click()\n",
    "\n",
    "#https://stackoverflow.com/questions/44119081/how-do-you-fix-the-element-not-interactable-exception"
   ]
  },
  {
   "cell_type": "code",
   "execution_count": null,
   "metadata": {},
   "outputs": [],
   "source": [
    "#browser.find_element(By.XPATH,'//a[contains(@href,\"/es-ar/niv/users/sign_out\")]').click()\n",
    "browser.find_element(By.XPATH, value='//a[@href=\"/es-ar/niv/users/sign_out\"]').click()\n",
    "#browser.find_element(By.XPATH, value='//a[@href=\"/es-ar/niv/users/sign_out\"]').click()"
   ]
  },
  {
   "cell_type": "code",
   "execution_count": null,
   "metadata": {},
   "outputs": [],
   "source": [
    "elements = browser.find_elements(By.TAG_NAME, 'li')\n",
    "print(elements)\n",
    "for e in elements:\n",
    "    print(e)"
   ]
  },
  {
   "cell_type": "markdown",
   "metadata": {},
   "source": [
    "## 10a. Finalizar sesión\n",
    "- <a href=\"/es-ar/niv/users/sign_out\">Finalizar sesión</a>   \n",
    "`<a href=\"/es-ar/niv/users/sign_out\">Finalizar sesión</a>`\n",
    "\n",
    "Copy full XPath:    \n",
    "/html/body/div[4]/header/nav/div/div/div[2]/div[1]/ul/li[3]/ul/li[4]/a"
   ]
  },
  {
   "cell_type": "code",
   "execution_count": null,
   "metadata": {},
   "outputs": [],
   "source": [
    "import selenium as sl\n",
    "sl.__version__"
   ]
  }
 ],
 "metadata": {
  "kernelspec": {
   "display_name": "Python 3",
   "language": "python",
   "name": "python3"
  },
  "language_info": {
   "codemirror_mode": {
    "name": "ipython",
    "version": 3
   },
   "file_extension": ".py",
   "mimetype": "text/x-python",
   "name": "python",
   "nbconvert_exporter": "python",
   "pygments_lexer": "ipython3",
   "version": "3.11.4"
  },
  "orig_nbformat": 4
 },
 "nbformat": 4,
 "nbformat_minor": 2
}
