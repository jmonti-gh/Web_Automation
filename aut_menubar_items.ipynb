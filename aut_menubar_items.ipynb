{
 "cells": [
  {
   "cell_type": "markdown",
   "metadata": {},
   "source": [
    "# WEB Automation - Form filling"
   ]
  },
  {
   "cell_type": "markdown",
   "metadata": {},
   "source": [
    "## 1. Open the Web Form"
   ]
  },
  {
   "cell_type": "code",
   "execution_count": null,
   "metadata": {},
   "outputs": [],
   "source": [
    "from selenium import webdriver\n",
    "from selenium.webdriver.common.by import By\n",
    "import time\n",
    "\n",
    "drv = webdriver.Firefox()\n",
    "drv.get(\"https://www.lambdatest.com/\")\n",
    "# browser.maximize_window()"
   ]
  },
  {
   "cell_type": "markdown",
   "metadata": {},
   "source": [
    "## 2. Locate menu-bar elements.\n",
    "- <a href=\"https://www.lambdatest.com/pricing\" class=\"desktop:block  desktop:ml-0 desktop:mt-10 nav-link inline-block pt-10 pb-10 text-size-16 font-medium px-15 fromipad:px-10 text-ltBlack-400 \">Pricing</a>    \n",
    "- `<a href=\"https://www.lambdatest.com/pricing\" class=\"desktop:block  desktop:ml-0 desktop:mt-10 nav-link inline-block pt-10 pb-10 text-size-16 font-medium px-15 fromipad:px-10 text-ltBlack-400 \">Pricing</a>`"
   ]
  },
  {
   "cell_type": "code",
   "execution_count": 16,
   "metadata": {},
   "outputs": [],
   "source": [
    "pricing = drv.find_element(By.XPATH,\n",
    "                           value='//a[@href=\"https://www.lambdatest.com/pricing\"]')\n",
    "pricing.is_displayed()\n",
    "pricing.tag_name\n",
    "pricing.rect\n",
    "pricing.text\n",
    "pricing.get_attribute('href')\n",
    "pricing.get_attribute('class')\n",
    "# pricing.click() # is not clickable at point (744,69) because another element <div> obscures it\n",
    "pricing.send_keys('Keys.RETURN')"
   ]
  },
  {
   "cell_type": "code",
   "execution_count": null,
   "metadata": {},
   "outputs": [],
   "source": []
  },
  {
   "cell_type": "code",
   "execution_count": null,
   "metadata": {},
   "outputs": [],
   "source": []
  },
  {
   "cell_type": "code",
   "execution_count": null,
   "metadata": {},
   "outputs": [],
   "source": []
  }
 ],
 "metadata": {
  "kernelspec": {
   "display_name": "Python 3",
   "language": "python",
   "name": "python3"
  },
  "language_info": {
   "codemirror_mode": {
    "name": "ipython",
    "version": 3
   },
   "file_extension": ".py",
   "mimetype": "text/x-python",
   "name": "python",
   "nbconvert_exporter": "python",
   "pygments_lexer": "ipython3",
   "version": "3.11.0"
  },
  "orig_nbformat": 4
 },
 "nbformat": 4,
 "nbformat_minor": 2
}
