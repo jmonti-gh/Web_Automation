{
 "cells": [
  {
   "cell_type": "markdown",
   "metadata": {},
   "source": [
    "# Modern Web Automation\n",
    "- https://realpython.com/modern-web-automation-with-python-and-selenium/"
   ]
  },
  {
   "cell_type": "markdown",
   "metadata": {},
   "source": [
    "##  Test Driving a Headless Browser"
   ]
  },
  {
   "cell_type": "code",
   "execution_count": 5,
   "metadata": {},
   "outputs": [],
   "source": [
    "#from selenium.webdriver import Firefox\n",
    "#from selenium.webdriver.firefox.options import Options\n",
    "from selenium import webdriver\n",
    "# opts = Options()\n",
    "# opts.binary_location = r'C:\\Program Files\\Mozilla Firefox\\firefox.exe'\n",
    "# s = Service(r'C:\\...\\geckodriver.exe')\n",
    "browser = webdriver.Firefox()\n",
    "browser.get(url)\n",
    "\n",
    "opts.set_window_rect\n",
    "#assert opts.headless  # Operating in headless mode\n",
    "browser = Firefox(options=opts)\n",
    "browser.get('https://duckduckgo.com')"
   ]
  },
  {
   "cell_type": "code",
   "execution_count": null,
   "metadata": {},
   "outputs": [],
   "source": [
    "options = Options()\n",
    "options.add_argument(\"--headless\")\n",
    "caps = webdriver.DesiredCapabilities().FIREFOX\n",
    "caps[\"marionette\"] = True\n",
    "browser = webdriver.Firefox(firefox_options=options, capabilities=caps, executable_path=r\"geckodriver.exe\")\n",
    "browser.get('https://bandcamp.com')\n",
    "browser.find_element_by_class_name('playbutton').click()"
   ]
  },
  {
   "cell_type": "code",
   "execution_count": null,
   "metadata": {},
   "outputs": [],
   "source": [
    "search_form = browser.find_element(By.ID, 'search_form_input_homepage')\n",
    "search_form.send_keys('real python')\n",
    "search_form.submit()\n",
    "\n",
    "results = browser.find_elements(By.CLASS_NAME, 'result')\n",
    "print(results[0].text)\n",
    "browser.close()\n",
    "quit()"
   ]
  },
  {
   "cell_type": "code",
   "execution_count": null,
   "metadata": {},
   "outputs": [],
   "source": [
    "from selenium.webdriver.common.by import By\n",
    "from selenium.webdriver import Firefox\n",
    "from selenium.webdriver.firefox.options import Options\n",
    "from selenium.webdriver.support.ui import WebDriverWait\n",
    "\n",
    "opts = Options()\n",
    "opts.headless = True\n",
    "assert opts.headless  # Operating in headless mode\n",
    "browser = Firefox(options=opts)\n",
    "browser.get('https://duckduckgo.com')\n",
    "search_form = browser.find_element(By.ID, 'search_form_input_homepage')\n",
    "search_form.send_keys('real python')\n",
    "search_form.submit()\n",
    "browser.implicitly_wait(5)\n",
    "results = browser.find_element(By.CLASS_NAME, 'result__snippet')\n",
    "print(results.text)\n",
    "browser.close()"
   ]
  },
  {
   "cell_type": "code",
   "execution_count": null,
   "metadata": {},
   "outputs": [],
   "source": []
  }
 ],
 "metadata": {
  "kernelspec": {
   "display_name": "Python 3",
   "language": "python",
   "name": "python3"
  },
  "language_info": {
   "codemirror_mode": {
    "name": "ipython",
    "version": 3
   },
   "file_extension": ".py",
   "mimetype": "text/x-python",
   "name": "python",
   "nbconvert_exporter": "python",
   "pygments_lexer": "ipython3",
   "version": "3.11.0"
  },
  "orig_nbformat": 4
 },
 "nbformat": 4,
 "nbformat_minor": 2
}
