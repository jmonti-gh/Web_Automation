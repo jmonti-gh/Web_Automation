{
 "cells": [
  {
   "cell_type": "markdown",
   "metadata": {},
   "source": [
    "# WEB Automation - Form filling\n",
    "- https://www.lambdatest.com/blog/how-to-automate-filling-in-web-forms-with-python-using-selenium/#:~:text=Demonstration%3A%20How%20to%20automate%20filling%20in%20web%20forms,a%20success%20message%20is%20shown%20to%20the%20user."
   ]
  },
  {
   "cell_type": "markdown",
   "metadata": {},
   "source": [
    "## 1. Open the Web Form"
   ]
  },
  {
   "cell_type": "code",
   "execution_count": 12,
   "metadata": {},
   "outputs": [],
   "source": [
    "from selenium import webdriver\n",
    "# from selenium.webdriver.chrome.service import Service\n",
    "# from webdriver_manager.chrome import ChromeDriverManager\n",
    "# import time\n",
    "\n",
    "browser = webdriver.Chrome()\n",
    "browser.get(\"https://ecommerce-playground.lambdatest.io/index.php?route=account/register\")\n",
    "# browser.maximize_window()\n",
    "# time.sleep(3)\n",
    "# browser.quit()\n",
    "# https://www.lambdatest.com/blog/selenium-best-practices-for-web-testing/"
   ]
  },
  {
   "cell_type": "markdown",
   "metadata": {},
   "source": [
    "## 2. Locate the Elements"
   ]
  },
  {
   "cell_type": "markdown",
   "metadata": {},
   "source": [
    "#### Ways to locate the elements inside the page html code.\n",
    "> Selenium locators: ID, Name, ClassName, LinkText, Partial LinkText, TagName, CssSelector, XPath.\n",
    "- We must know the element's properties: Inspect the field (the element) w/browser\n",
    "    - ex. `<input type=\"text\" name=\"firstname\" value=\"\" placeholder=\"First Name\" id=\"input-firstname\" class=\"form-control\">`\n",
    "    - and de XPath: __//*[@id=\"input-firstname\"]__\n",
    "    - and full XPath: __/html/body/div[1]/div[5]/div[1]/div/div/form/fieldset[1]/div[2]/div/input__"
   ]
  },
  {
   "cell_type": "markdown",
   "metadata": {},
   "source": [
    "### To interact with form fields and buttons, we need to:\n",
    "1. Locate the element in the page using the find element method in Selenium.\n",
    "2. Do an action with the located element."
   ]
  },
  {
   "cell_type": "code",
   "execution_count": 13,
   "metadata": {},
   "outputs": [],
   "source": [
    "from selenium.webdriver.common.by import By\n",
    "\n",
    "# find all the elements (fields) i want to fill\n",
    "first_name = browser.find_element(By.ID, \"input-firstname\")\n",
    "last_name = browser.find_element(By.ID, \"input-lastname\")\n",
    "telephone = browser.find_element(By.ID, \"input-telephone\")\n",
    "email = browser.find_element(By.ID, \"input-email\")\n",
    "password = browser.find_element(By.ID, \"input-password\")\n",
    "password_confirm = browser.find_element(By.ID, \"input-confirm\")\n",
    "\n",
    "### Not all elements have ID, then use other locator (ex. XPath locator)\n",
    "# Absolute and relative XPath, we'll use relative\n",
    "yes_subscribe = browser.find_element(By.XPATH, value=\"//label[@for='input-newsletter-yes']\")\n",
    "terms = browser.find_element(By.XPATH, value=\"//label[@for='input-agree']\")\n",
    "continue_button = browser.find_element(By.XPATH, value=\"//input[@value='Continue']\")"
   ]
  },
  {
   "cell_type": "markdown",
   "metadata": {},
   "source": [
    "## 3. Fill the field (element)\n",
    "- Use the method 'send_keys'."
   ]
  },
  {
   "cell_type": "code",
   "execution_count": 14,
   "metadata": {},
   "outputs": [],
   "source": [
    "first_name.send_keys('J')\n",
    "last_name.send_keys('M')\n",
    "telephone.send_keys('+542614...')\n",
    "email.send_keys('jori@gmail.com')\n",
    "password.send_keys('123456')\n",
    "password_confirm.send_keys('123456')\n",
    "\n",
    "# Click Option, Terms and Continue\n",
    "yes_subscribe.click()\n",
    "terms.click()\n",
    "continue_button.click()"
   ]
  },
  {
   "cell_type": "markdown",
   "metadata": {},
   "source": [
    "## 4. Check if the register was correctly done.\n",
    "- Check the title of the result page w/assert for ex."
   ]
  },
  {
   "cell_type": "code",
   "execution_count": null,
   "metadata": {},
   "outputs": [],
   "source": [
    "assert browser.title == 'Your Account Has Been Create!'\n",
    "# https://www.youtube.com/watch?v=KeSWHW4Lx1E"
   ]
  },
  {
   "cell_type": "code",
   "execution_count": null,
   "metadata": {},
   "outputs": [],
   "source": []
  }
 ],
 "metadata": {
  "kernelspec": {
   "display_name": "Python 3",
   "language": "python",
   "name": "python3"
  },
  "language_info": {
   "codemirror_mode": {
    "name": "ipython",
    "version": 3
   },
   "file_extension": ".py",
   "mimetype": "text/x-python",
   "name": "python",
   "nbconvert_exporter": "python",
   "pygments_lexer": "ipython3",
   "version": "3.11.0"
  },
  "orig_nbformat": 4
 },
 "nbformat": 4,
 "nbformat_minor": 2
}
